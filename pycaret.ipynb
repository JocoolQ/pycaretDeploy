{
 "cells": [
  {
   "cell_type": "code",
   "execution_count": 7,
   "metadata": {},
   "outputs": [
    {
     "name": "stdout",
     "output_type": "stream",
     "text": [
      "Login Succeeded\n",
      "\r\n",
      "Step 1/10 : FROM python:3.8\n",
      " ---> 274827c0462d\n",
      "Step 2/10 : RUN apt-get -y update && apt-get install -y --no-install-recommends          wget          python3          nginx          ca-certificates     && rm -rf /var/lib/apt/lists/*\n",
      " ---> Using cache\n",
      " ---> c5c18630991a\n",
      "Step 3/10 : RUN wget https://bootstrap.pypa.io/get-pip.py && python3 get-pip.py &&     pip install flask gevent gunicorn &&         rm -rf /root/.cache\n",
      " ---> Using cache\n",
      " ---> a9948b3789ab\n",
      "Step 4/10 : RUN pip install pycaret\n",
      " ---> Using cache\n",
      " ---> 1ed6a3b8e77d\n",
      "Step 5/10 : RUN pip install pandas\n",
      " ---> Using cache\n",
      " ---> 9b748b3d72e1\n",
      "Step 6/10 : ENV PYTHONUNBUFFERED=TRUE\n",
      " ---> Using cache\n",
      " ---> 0d9ee0689bd1\n",
      "Step 7/10 : ENV PYTHONDONTWRITEBYTECODE=TRUE\n",
      " ---> Using cache\n",
      " ---> b18a6cda2b18\n",
      "Step 8/10 : ENV PATH=\"/opt/program:${PATH}\"\n",
      " ---> Using cache\n",
      " ---> 9d76b87618aa\n",
      "Step 9/10 : COPY model /opt/program\n",
      " ---> Using cache\n",
      " ---> af31aa48d668\n",
      "Step 10/10 : WORKDIR /opt/program\n",
      " ---> Using cache\n",
      " ---> 118d7e8cc736\n",
      "Successfully built 118d7e8cc736\n",
      "Successfully tagged sm-pretrained-pycaret:latest\n",
      "The push refers to repository [348305232947.dkr.ecr.us-east-1.amazonaws.com/sm-pretrained-pycaret]\n",
      "83393707571f: Preparing\n",
      "559eaaafac7e: Preparing\n",
      "72ff6fc0dfb5: Preparing\n",
      "c83d035122c3: Preparing\n",
      "3f2624f40a9c: Preparing\n",
      "9a1378e891b0: Preparing\n",
      "e80c2603f92a: Preparing\n",
      "37f7caf423fc: Preparing\n",
      "1f8751be0506: Preparing\n",
      "59b0c7a2fe4d: Preparing\n",
      "7372faf8e603: Preparing\n",
      "9be7f4e74e71: Preparing\n",
      "36cd374265f4: Preparing\n",
      "5bdeef4a08f3: Preparing\n",
      "37f7caf423fc: Waiting\n",
      "1f8751be0506: Waiting\n",
      "59b0c7a2fe4d: Waiting\n",
      "7372faf8e603: Waiting\n",
      "9be7f4e74e71: Waiting\n",
      "36cd374265f4: Waiting\n",
      "5bdeef4a08f3: Waiting\n",
      "9a1378e891b0: Waiting\n",
      "e80c2603f92a: Waiting\n",
      "559eaaafac7e: Pushed\n",
      "c83d035122c3: Pushed\n",
      "3f2624f40a9c: Pushed\n",
      "e80c2603f92a: Pushed\n",
      "83393707571f: Pushed\n",
      "9a1378e891b0: Pushed\n",
      "37f7caf423fc: Pushed\n",
      "1f8751be0506: Pushed\n",
      "36cd374265f4: Pushed\n",
      "9be7f4e74e71: Pushed\n",
      "7372faf8e603: Pushed\n",
      "5bdeef4a08f3: Pushed\n",
      "59b0c7a2fe4d: Pushed\n",
      "72ff6fc0dfb5: Pushed\n",
      "latest: digest: sha256:f68129bf786d452c9009ec0aaa16be846dae7223534b9d974dc52aa86bf40620 size: 3273\n"
     ]
    },
    {
     "name": "stderr",
     "output_type": "stream",
     "text": [
      "WARNING! Your password will be stored unencrypted in /home/ec2-user/.docker/config.json.\n",
      "Configure a credential helper to remove this warning. See\n",
      "https://docs.docker.com/engine/reference/commandline/login/#credentials-store\n",
      "\n"
     ]
    }
   ],
   "source": [
    "%%sh\n",
    "\n",
    "# Name of algo -> ECR\n",
    "algorithm_name=sm-pretrained-pycaret\n",
    "\n",
    "cd container\n",
    "\n",
    "#make serve executable\n",
    "chmod +x model/serve\n",
    "\n",
    "account=$(aws sts get-caller-identity --query Account --output text)\n",
    "\n",
    "# Region, defaults to us-west-2\n",
    "region=$(aws configure get region)\n",
    "region=${region:-us-east-1}\n",
    "\n",
    "fullname=\"${account}.dkr.ecr.${region}.amazonaws.com/${algorithm_name}:latest\"\n",
    "\n",
    "# If the repository doesn't exist in ECR, create it.\n",
    "aws ecr describe-repositories --repository-names \"${algorithm_name}\" > /dev/null 2>&1\n",
    "\n",
    "if [ $? -ne 0 ]\n",
    "then\n",
    "    aws ecr create-repository --repository-name \"${algorithm_name}\" > /dev/null\n",
    "fi\n",
    "\n",
    "# Get the login command from ECR and execute it directly\n",
    "aws ecr get-login-password --region ${region}|docker login --username AWS --password-stdin ${fullname}\n",
    "\n",
    "# Build the docker image locally with the image name and then push it to ECR\n",
    "# with the full name.\n",
    "\n",
    "docker build  -t ${algorithm_name} .\n",
    "docker tag ${algorithm_name} ${fullname}\n",
    "\n",
    "docker push ${fullname}"
   ]
  },
  {
   "cell_type": "code",
   "execution_count": 17,
   "metadata": {},
   "outputs": [],
   "source": [
    "import boto3\n",
    "from sagemaker import get_execution_role\n",
    "\n",
    "sm_client = boto3.client(service_name='sagemaker')\n",
    "runtime_sm_client = boto3.client(service_name='sagemaker-runtime')\n",
    "\n",
    "account_id = boto3.client('sts').get_caller_identity()['Account']\n",
    "region = boto3.Session().region_name\n",
    "\n",
    "\n",
    "role = get_execution_role()"
   ]
  },
  {
   "cell_type": "code",
   "execution_count": 18,
   "metadata": {},
   "outputs": [
    {
     "name": "stdout",
     "output_type": "stream",
     "text": [
      "Model name: pycaretModel-2022-07-14-14-59-55\n",
      "Container image: 348305232947.dkr.ecr.us-east-1.amazonaws.com/sm-pretrained-pycaret:latest\n",
      "Model Arn: arn:aws:sagemaker:us-east-1:348305232947:model/pycaretmodel-2022-07-14-14-59-55\n"
     ]
    }
   ],
   "source": [
    "from time import gmtime, strftime\n",
    "\n",
    "model_name = 'pycaretModel-' + strftime(\"%Y-%m-%d-%H-%M-%S\", gmtime())\n",
    "container = '{}.dkr.ecr.{}.amazonaws.com/sm-pretrained-pycaret:latest'.format(account_id, region)\n",
    "instance_type = 'm4.xlarge'\n",
    "\n",
    "print('Model name: ' + model_name)\n",
    "print('Container image: ' + container)\n",
    "\n",
    "container = {\n",
    "    'Image': container\n",
    "}\n",
    "\n",
    "create_model_response = sm_client.create_model(\n",
    "    ModelName = model_name,\n",
    "    ExecutionRoleArn = role,\n",
    "    Containers = [container])\n",
    "\n",
    "print(\"Model Arn: \" + create_model_response['ModelArn'])"
   ]
  },
  {
   "cell_type": "code",
   "execution_count": 19,
   "metadata": {},
   "outputs": [
    {
     "name": "stdout",
     "output_type": "stream",
     "text": [
      "Endpoint config name: pycaret-config2022-07-14-14-59-58\n",
      "Endpoint config Arn: arn:aws:sagemaker:us-east-1:348305232947:endpoint-config/pycaret-config2022-07-14-14-59-58\n"
     ]
    }
   ],
   "source": [
    "instance_type = 'ml.m4.xlarge'\n",
    "endpoint_config_name = 'pycaret-config' + strftime(\"%Y-%m-%d-%H-%M-%S\", gmtime())\n",
    "print('Endpoint config name: ' + endpoint_config_name)\n",
    "\n",
    "create_endpoint_config_response = sm_client.create_endpoint_config(\n",
    "    EndpointConfigName = endpoint_config_name,\n",
    "    ProductionVariants=[{\n",
    "        'InstanceType': instance_type,\n",
    "        'InitialInstanceCount': 1,\n",
    "        'InitialVariantWeight': 1,\n",
    "        'ModelName': model_name,\n",
    "        'VariantName': 'AllTraffic'}])\n",
    "\n",
    "print(\"Endpoint config Arn: \" + create_endpoint_config_response['EndpointConfigArn'])"
   ]
  },
  {
   "cell_type": "code",
   "execution_count": 20,
   "metadata": {},
   "outputs": [
    {
     "name": "stdout",
     "output_type": "stream",
     "text": [
      "Endpoint name: pycaret-endpoint2022-07-14-15-00-01\n",
      "Endpoint Arn: arn:aws:sagemaker:us-east-1:348305232947:endpoint/pycaret-endpoint2022-07-14-15-00-01\n",
      "Endpoint Status: Creating\n",
      "Waiting for pycaret-endpoint2022-07-14-15-00-01 endpoint to be in service...\n",
      "CPU times: user 131 ms, sys: 3.23 ms, total: 134 ms\n",
      "Wall time: 5min 1s\n"
     ]
    }
   ],
   "source": [
    "%%time\n",
    "\n",
    "import time\n",
    "\n",
    "endpoint_name = 'pycaret-endpoint' + strftime(\"%Y-%m-%d-%H-%M-%S\", gmtime())\n",
    "print('Endpoint name: ' + endpoint_name)\n",
    "\n",
    "create_endpoint_response = sm_client.create_endpoint(\n",
    "    EndpointName=endpoint_name,\n",
    "    EndpointConfigName=endpoint_config_name)\n",
    "print('Endpoint Arn: ' + create_endpoint_response['EndpointArn'])\n",
    "\n",
    "resp = sm_client.describe_endpoint(EndpointName=endpoint_name)\n",
    "status = resp['EndpointStatus']\n",
    "print(\"Endpoint Status: \" + status)\n",
    "\n",
    "print('Waiting for {} endpoint to be in service...'.format(endpoint_name))\n",
    "waiter = sm_client.get_waiter('endpoint_in_service')\n",
    "waiter.wait(EndpointName=endpoint_name)"
   ]
  },
  {
   "cell_type": "code",
   "execution_count": 21,
   "metadata": {},
   "outputs": [
    {
     "data": {
      "text/plain": [
       "{'0': {'id': 133,\n",
       "  'producto': 'CB',\n",
       "  'movilizado': 34990.0,\n",
       "  'Label': 1,\n",
       "  'Score': 0.6524}}"
      ]
     },
     "execution_count": 21,
     "metadata": {},
     "output_type": "execute_result"
    }
   ],
   "source": [
    "import json\n",
    "content_type = \"application/json\"\n",
    "request_body = {\n",
    "\t\"user\":{\n",
    "\t\t\"user_segment\": 0\n",
    "\t},\n",
    "\t\"transaction\":{\n",
    "\t\t\"id\": 133,\n",
    "\t\t\"producto\": \"CB\",\n",
    "\t\t\"movilizado\": 34990.0\n",
    "\t}\n",
    "}\n",
    "#Serialize data for endpoint\n",
    "data = json.loads(json.dumps(request_body))\n",
    "payload = json.dumps(data)\n",
    "\n",
    "#Endpoint invocation\n",
    "response = runtime_sm_client.invoke_endpoint(\n",
    "    EndpointName=endpoint_name,\n",
    "    ContentType=content_type,\n",
    "    Body=payload)\n",
    "\n",
    "#Parse results\n",
    "result = json.loads(response['Body'].read().decode())\n",
    "result"
   ]
  }
 ],
 "metadata": {
  "kernelspec": {
   "display_name": "conda_python3",
   "language": "python",
   "name": "conda_python3"
  },
  "language_info": {
   "codemirror_mode": {
    "name": "ipython",
    "version": 3
   },
   "file_extension": ".py",
   "mimetype": "text/x-python",
   "name": "python",
   "nbconvert_exporter": "python",
   "pygments_lexer": "ipython3",
   "version": "3.8.12"
  }
 },
 "nbformat": 4,
 "nbformat_minor": 2
}
